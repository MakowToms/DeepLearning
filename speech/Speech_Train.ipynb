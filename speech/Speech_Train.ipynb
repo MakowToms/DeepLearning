{
  "nbformat": 4,
  "nbformat_minor": 0,
  "metadata": {
    "colab": {
      "name": "Speech_Recog_Demo.ipynb",
      "provenance": [],
      "collapsed_sections": [
        "YylyiUmrdcVu"
      ],
      "toc_visible": true,
      "include_colab_link": true
    },
    "kernelspec": {
      "display_name": "Python 3",
      "language": "python",
      "name": "python3"
    },
    "language_info": {
      "codemirror_mode": {
        "name": "ipython",
        "version": 3
      },
      "file_extension": ".py",
      "mimetype": "text/x-python",
      "name": "python",
      "nbconvert_exporter": "python",
      "pygments_lexer": "ipython3",
      "version": "3.6.9"
    },
    "accelerator": "GPU"
  },
  "cells": [
    {
      "cell_type": "markdown",
      "metadata": {
        "id": "view-in-github",
        "colab_type": "text"
      },
      "source": [
        "<a href=\"https://colab.research.google.com/github/MakowToms/DeepLearning/blob/main/speech/Speech_Train.ipynb\" target=\"_parent\"><img src=\"https://colab.research.google.com/assets/colab-badge.svg\" alt=\"Open In Colab\"/></a>"
      ]
    },
    {
      "cell_type": "markdown",
      "metadata": {
        "id": "hTrNWNHLyaqF"
      },
      "source": [
        "# Speech Command Recognition \n",
        "\n",
        "Source: https://github.com/douglas125/SpeechCmdRecognition\n",
        "\n",
        "This notebook presents an attention model for speech command recognotion. We use Google Speech Commands Dataset to test the Keras generator for sound files and the proposed RNN attention model.\n",
        "\n",
        "\n",
        "## Download files and load information\n",
        "\n",
        "Dynamically load speech data from the disk to allow handling big datasets.\n",
        "\n",
        "First step: download Google Speech Command Dataset and convert all WAV files to numpy arrays for faster load (about 10x faster than loading raw WAV)."
      ]
    },
    {
      "cell_type": "code",
      "metadata": {
        "id": "WpUxvDjJ4O3c"
      },
      "source": [
        "# restart environment (use only if necessary)\n",
        "import os\n",
        "os.kill(os.getpid(), 9)"
      ],
      "execution_count": null,
      "outputs": []
    },
    {
      "cell_type": "code",
      "metadata": {
        "colab": {
          "base_uri": "https://localhost:8080/"
        },
        "id": "3eOJxBcH2X8E",
        "outputId": "59a772b7-4976-4347-94f0-891dd8aa5f61"
      },
      "source": [
        "from google.colab import drive\n",
        "drive.mount('/content/drive')"
      ],
      "execution_count": 1,
      "outputs": [
        {
          "output_type": "stream",
          "text": [
            "Mounted at /content/drive\n"
          ],
          "name": "stdout"
        }
      ]
    },
    {
      "cell_type": "markdown",
      "metadata": {
        "id": "LuQR3T-1dlmq"
      },
      "source": [
        "# Preprocessing"
      ]
    },
    {
      "cell_type": "code",
      "metadata": {
        "id": "jUh5MuNwDDaE",
        "colab": {
          "base_uri": "https://localhost:8080/"
        },
        "outputId": "cc79969a-6e27-4d6a-b80e-2fc0b8ee46f0"
      },
      "source": [
        "# unpack data on disk\n",
        "# there should be prepared previously using audioUtils.WAV2Numpy\n",
        "import zipfile\n",
        "\n",
        "zip_file = \"drive/MyDrive/speech_data/$name_filtered.zip\"\n",
        "unzip_train = True\n",
        "unzip_test = True\n",
        "\n",
        "try:\n",
        "  if unzip_train:\n",
        "    with zipfile.ZipFile(zip_file.replace('$name', 'train')) as z:\n",
        "        z.extractall('speech_data')\n",
        "  if unzip_test:\n",
        "    with zipfile.ZipFile(zip_file.replace('$name', 'test')) as z:\n",
        "        z.extractall('speech_data')\n",
        "  print(\"Extracted all\")\n",
        "except:\n",
        "    print(\"Invalid file\")"
      ],
      "execution_count": 3,
      "outputs": [
        {
          "output_type": "stream",
          "text": [
            "Extracted all\n"
          ],
          "name": "stdout"
        }
      ]
    },
    {
      "cell_type": "markdown",
      "metadata": {
        "id": "gVj6pQUtK0QX"
      },
      "source": [
        "## Processing\n"
      ]
    },
    {
      "cell_type": "code",
      "metadata": {
        "id": "GieC2ZgNycMI"
      },
      "source": [
        "# download python scripts from github\n",
        "# if you want to reproduce previous models search for them in github history or make changes as specified in report\n",
        "# to change scripts it may be useful to use file editor with downloaded file\n",
        "!rm SpeechDownloader.py\n",
        "!rm SpeechGenerator.py\n",
        "!rm SpeechModels.py\n",
        "!rm audioUtils.py\n",
        "useColab=True\n",
        "if useColab:\n",
        "    %tensorflow_version 2.x\n",
        "    !wget -q https://raw.githubusercontent.com/MakowToms/DeepLearning/main/speech/SpeechDownloader.py\n",
        "    !wget -q https://raw.githubusercontent.com/MakowToms/DeepLearning/main/speech/SpeechGenerator.py\n",
        "    !wget -q https://raw.githubusercontent.com/MakowToms/DeepLearning/main/speech/audioUtils.py\n",
        "    !wget -q https://raw.githubusercontent.com/MakowToms/DeepLearning/main/speech/SpeechModels.py"
      ],
      "execution_count": 1,
      "outputs": []
    },
    {
      "cell_type": "code",
      "metadata": {
        "id": "8zJv_ttsyaqJ"
      },
      "source": [
        "# imports\n",
        "import os\n",
        "import random\n",
        "import librosa\n",
        "import matplotlib\n",
        "import numpy as np\n",
        "import pandas as pd\n",
        "import matplotlib.pyplot as plt\n",
        "%matplotlib inline  \n",
        "\n",
        "import SpeechDownloader\n",
        "import SpeechGenerator\n",
        "import SpeechModels"
      ],
      "execution_count": 2,
      "outputs": []
    },
    {
      "cell_type": "code",
      "metadata": {
        "colab": {
          "base_uri": "https://localhost:8080/"
        },
        "id": "YTD7DrNlkhA0",
        "outputId": "02b30851-3e37-48e9-a1c4-2be1cd23bf5b"
      },
      "source": [
        "# reproducibility of results\n",
        "!pip install tensorflow-determinism\n",
        "\n",
        "import tensorflow as tf\n",
        "from tensorflow.python.client import device_lib\n",
        "os.environ['TF_DETERMINISTIC_OPS'] = '1'\n",
        "\n",
        "def set_seed(seed=123):\n",
        "    tf.random.set_seed(seed)\n",
        "    np.random.seed(seed)\n",
        "    random.seed(seed)\n",
        "    os.environ[\"PYTHONHASHSEED\"] = str(seed)  \n",
        "set_seed()\n"
      ],
      "execution_count": 3,
      "outputs": [
        {
          "output_type": "stream",
          "text": [
            "Requirement already satisfied: tensorflow-determinism in /usr/local/lib/python3.7/dist-packages (0.3.0)\n"
          ],
          "name": "stdout"
        }
      ]
    },
    {
      "cell_type": "code",
      "metadata": {
        "colab": {
          "base_uri": "https://localhost:8080/"
        },
        "id": "a_sCoxN1yaqQ",
        "outputId": "d534b349-70ae-4b5a-d7ae-dc1ea9422bd8"
      },
      "source": [
        "# prepare all data\n",
        "# in case of silence task change task='silence'\n",
        "gscInfo, nCategs = SpeechDownloader.PrepareGoogleSpeechCmd(task='12cmd', drive_directory='')"
      ],
      "execution_count": 4,
      "outputs": [
        {
          "output_type": "stream",
          "text": [
            "Done preparing Google Speech commands dataset version 0\n"
          ],
          "name": "stdout"
        }
      ]
    },
    {
      "cell_type": "markdown",
      "metadata": {
        "id": "tzE5hypbyaqV"
      },
      "source": [
        "We should have 4 datasets, each with file names 'files' and their categories 'labels' in a dict."
      ]
    },
    {
      "cell_type": "code",
      "metadata": {
        "colab": {
          "base_uri": "https://localhost:8080/"
        },
        "id": "U6g2xDpVyaqW",
        "outputId": "f8b68abf-1d94-4467-e8f1-17bfea4ec51d"
      },
      "source": [
        "# some debug info to see some variables - not really important\n",
        "print(gscInfo.keys())\n",
        "# print(gscInfo['train'].keys())\n",
        "# print(len(gscInfo['train']['files']))\n",
        "print(nCategs)\n",
        "len(gscInfo['testREAL']['files'])\n",
        "# print(np.unique(list(gscInfo['test']['labels'].values())))\n",
        "# len([l for l in gscInfo['train']['labels'].values() if l == 1])\n"
      ],
      "execution_count": 5,
      "outputs": [
        {
          "output_type": "stream",
          "text": [
            "dict_keys(['train', 'test', 'val', 'testREAL'])\n",
            "12\n"
          ],
          "name": "stdout"
        },
        {
          "output_type": "execute_result",
          "data": {
            "text/plain": [
              "158538"
            ]
          },
          "metadata": {
            "tags": []
          },
          "execution_count": 5
        }
      ]
    },
    {
      "cell_type": "markdown",
      "metadata": {
        "id": "kr5bibxhyaqa"
      },
      "source": [
        "# Speech Data Generator\n",
        "\n",
        "Use Keras to create a generator that reads files on the fly."
      ]
    },
    {
      "cell_type": "code",
      "metadata": {
        "colab": {
          "base_uri": "https://localhost:8080/"
        },
        "id": "AXGWLGsGyaqc",
        "outputId": "52272cbe-b679-47db-ca05-9d3ab28b0e33"
      },
      "source": [
        "# prepare data generators\n",
        "sr = 16000 # sampling rate\n",
        "iLen = 16000\n",
        "trainGen = SpeechGenerator.SpeechGen(gscInfo['train']['files'], gscInfo['train']['labels'], 'train', shuffle=True, batch_size=64)\n",
        "valGen = SpeechGenerator.SpeechGen(gscInfo['val']['files'], gscInfo['val']['labels'], 'val', shuffle=True)\n",
        "\n",
        "# use batch_size = total number of files to read all test files at once\n",
        "testGen  = SpeechGenerator.SpeechGen(gscInfo['test']['files'], gscInfo['test']['labels'], 'test', shuffle=False, batch_size=len(gscInfo['test']['files']))\n",
        "try:\n",
        "  testRGen = SpeechGenerator.SpeechGen(gscInfo['testREAL']['files'], gscInfo['testREAL']['labels'], 'test', shuffle=False, batch_size=int(len(gscInfo['testREAL']['files'])/6))\n",
        "  print(testRGen.__len__())\n",
        "except:\n",
        "  print('Cannot create test dataset')\n",
        "# print(valGen.__len__())\n",
        "print(len(gscInfo['testREAL']['files']))\n",
        "print(len(gscInfo['testREAL']['labels']))\n",
        "print(len(gscInfo['test']['files']))\n",
        "print(len(gscInfo['test']['labels']))\n"
      ],
      "execution_count": 6,
      "outputs": [
        {
          "output_type": "stream",
          "text": [
            "6\n",
            "158538\n",
            "158538\n",
            "6835\n",
            "6835\n"
          ],
          "name": "stdout"
        }
      ]
    },
    {
      "cell_type": "markdown",
      "metadata": {
        "id": "YylyiUmrdcVu"
      },
      "source": [
        "# Spectrograms\n",
        "\n",
        "Mainly visualizations - to see how te spectrogram look like"
      ]
    },
    {
      "cell_type": "code",
      "metadata": {
        "colab": {
          "base_uri": "https://localhost:8080/"
        },
        "id": "1jz56x1Jyaqp",
        "outputId": "61120116-7f54-4163-f19c-7c18d1932f4b"
      },
      "source": [
        "from tensorflow.keras.models import Sequential\n",
        "from kapre.time_frequency import Melspectrogram, Spectrogram\n",
        "from kapre.utils import Normalization2D\n",
        "\n",
        "melspecModel = Sequential()\n",
        "\n",
        "melspecModel.add(Melspectrogram(n_dft=1024, n_hop=128, input_shape=(1, iLen),\n",
        "                         padding='same', sr=sr, n_mels=80,\n",
        "                         fmin=40.0, fmax=sr/2, power_melgram=1.0,\n",
        "                         return_decibel_melgram=True, trainable_fb=False,\n",
        "                         trainable_kernel=False,\n",
        "                         name='mel_stft') )\n",
        "\n",
        "melspecModel.add(Normalization2D(int_axis=0))\n",
        "\n",
        "melspecModel.summary()"
      ],
      "execution_count": null,
      "outputs": [
        {
          "output_type": "stream",
          "text": [
            "Model: \"sequential\"\n",
            "_________________________________________________________________\n",
            "Layer (type)                 Output Shape              Param #   \n",
            "=================================================================\n",
            "mel_stft (Melspectrogram)    (None, 80, 125, 1)        1091664   \n",
            "_________________________________________________________________\n",
            "normalization2d (Normalizati (None, 80, 125, 1)        0         \n",
            "=================================================================\n",
            "Total params: 1,091,664\n",
            "Trainable params: 1,091,664\n",
            "Non-trainable params: 0\n",
            "_________________________________________________________________\n"
          ],
          "name": "stdout"
        }
      ]
    },
    {
      "cell_type": "code",
      "metadata": {
        "colab": {
          "base_uri": "https://localhost:8080/"
        },
        "id": "EdDdxD-Cyaqt",
        "outputId": "47658db7-da61-4420-d500-7fdba4d1c7cf"
      },
      "source": [
        "melspec = melspecModel.predict( audios.reshape((-1,1,iLen)) )\n",
        "melspec.shape"
      ],
      "execution_count": null,
      "outputs": [
        {
          "output_type": "execute_result",
          "data": {
            "text/plain": [
              "(32, 80, 125, 1)"
            ]
          },
          "metadata": {
            "tags": []
          },
          "execution_count": 15
        }
      ]
    },
    {
      "cell_type": "code",
      "metadata": {
        "colab": {
          "base_uri": "https://localhost:8080/",
          "height": 336
        },
        "id": "sg0mFYbEyaq0",
        "outputId": "08e6aebf-2a40-47e0-b593-131e09db4e41"
      },
      "source": [
        "plt.figure(figsize=(17,6))\n",
        "plt.pcolormesh(melspec[9,:,:,0])\n",
        "\n",
        "plt.title('Spectrogram visualization')\n",
        "plt.ylabel('Frequency')\n",
        "plt.xlabel('Time')\n",
        "\n",
        "plt.show()"
      ],
      "execution_count": null,
      "outputs": [
        {
          "output_type": "stream",
          "text": [
            "<string>:6: UserWarning: Warning: converting a masked element to nan.\n",
            "/usr/local/lib/python3.7/dist-packages/numpy/core/_asarray.py:83: UserWarning: Warning: converting a masked element to nan.\n",
            "  return array(a, dtype, copy=False, order=order)\n"
          ],
          "name": "stderr"
        },
        {
          "output_type": "display_data",
          "data": {
            "image/png": "[encoded data removed]",
            "text/plain": [
              "<Figure size 1224x432 with 1 Axes>"
            ]
          },
          "metadata": {
            "tags": []
          }
        }
      ]
    },
    {
      "cell_type": "code",
      "metadata": {
        "id": "enQjuF4Cmdch"
      },
      "source": [
        "# Check if mel spectrogram matches the one computed with librosa\n",
        "librosa_melspec = librosa.feature.melspectrogram(y=audios[9], sr=sr, n_fft=1024,\n",
        "                                                 hop_length=128, power=1.0, #window='hann',\n",
        "                                                 n_mels=80, fmin=40.0, fmax=sr/2)\n",
        "S_dB = librosa.power_to_db(librosa_melspec, ref=np.max)"
      ],
      "execution_count": null,
      "outputs": []
    },
    {
      "cell_type": "code",
      "metadata": {
        "colab": {
          "base_uri": "https://localhost:8080/",
          "height": 261
        },
        "id": "rtpQV8NIvGFZ",
        "outputId": "a3dc95b6-009c-4aa3-cc4d-d71e1aba31ab"
      },
      "source": [
        "plt.figure(figsize=(17,6))\n",
        "plt.pcolormesh(S_dB)\n",
        "\n",
        "plt.title('Spectrogram visualization - librosa')\n",
        "plt.ylabel('Frequency')\n",
        "plt.xlabel('Time')\n",
        "\n",
        "plt.show()"
      ],
      "execution_count": null,
      "outputs": [
        {
          "output_type": "display_data",
          "data": {
            "image/png": "[encoded data removed]",
            "text/plain": [
              "<Figure size 1224x432 with 1 Axes>"
            ]
          },
          "metadata": {
            "tags": []
          }
        }
      ]
    },
    {
      "cell_type": "code",
      "metadata": {
        "id": "rcTD11oykhF4"
      },
      "source": [
        "# plt.hist(melspec.flatten(), bins=100)"
      ],
      "execution_count": null,
      "outputs": []
    },
    {
      "cell_type": "markdown",
      "metadata": {
        "id": "suRQj5Dayaq5"
      },
      "source": [
        "# Models\n",
        "\n",
        "Create Keras models to see if the generators are working properly"
      ]
    },
    {
      "cell_type": "markdown",
      "metadata": {
        "id": "9QxsTFOs33q7"
      },
      "source": [
        "## Learn"
      ]
    },
    {
      "cell_type": "code",
      "metadata": {
        "id": "bArepYbcyaq7"
      },
      "source": [
        "from tensorflow.keras.models import Model, load_model\n",
        "\n",
        "from kapre.time_frequency import Melspectrogram, Spectrogram\n",
        "model_directory = 'drive/MyDrive/speech_data/model-12cmd-ConvAttRNN3-filtered.h5'"
      ],
      "execution_count": 7,
      "outputs": []
    },
    {
      "cell_type": "code",
      "metadata": {
        "colab": {
          "base_uri": "https://localhost:8080/"
        },
        "id": "eJIjgckXyarF",
        "outputId": "38680ca9-3835-4448-9dab-985458d6e3fe"
      },
      "source": [
        "# usually set_seed with default parameter (123)\n",
        "set_seed()\n",
        "# create model: use one of possible in SpeechModels (there are also AttRNN, RNN, CNN)\n",
        "# final model have also arguments: bigger_blocks=True, more_blocks=True\n",
        "model = SpeechModels.ConvAttRNNSpeechModel(nCategs, samplingrate = sr, inputLength = 16000) # , bigger_blocks=True, more_blocks=True)\n",
        "\n",
        "model.compile(optimizer='adam', loss=['sparse_categorical_crossentropy'], metrics=['sparse_categorical_accuracy'])\n",
        "model.summary()"
      ],
      "execution_count": 8,
      "outputs": [
        {
          "output_type": "stream",
          "text": [
            "Model: \"model\"\n",
            "__________________________________________________________________________________________________\n",
            "Layer (type)                    Output Shape         Param #     Connected to                     \n",
            "==================================================================================================\n",
            "input (InputLayer)              [(None, 16000)]      0                                            \n",
            "__________________________________________________________________________________________________\n",
            "reshape (Reshape)               (None, 1, 16000)     0           input[0][0]                      \n",
            "__________________________________________________________________________________________________\n",
            "mel_stft (Melspectrogram)       (None, 80, 125, 1)   1091664     reshape[0][0]                    \n",
            "__________________________________________________________________________________________________\n",
            "mel_stft_norm (Normalization2D) (None, 80, 125, 1)   0           mel_stft[0][0]                   \n",
            "__________________________________________________________________________________________________\n",
            "permute (Permute)               (None, 125, 80, 1)   0           mel_stft_norm[0][0]              \n",
            "__________________________________________________________________________________________________\n",
            "conv2d (Conv2D)                 (None, 125, 80, 20)  120         permute[0][0]                    \n",
            "__________________________________________________________________________________________________\n",
            "batch_normalization (BatchNorma (None, 125, 80, 20)  80          conv2d[0][0]                     \n",
            "__________________________________________________________________________________________________\n",
            "max_pooling2d (MaxPooling2D)    (None, 62, 80, 20)   0           batch_normalization[0][0]        \n",
            "__________________________________________________________________________________________________\n",
            "dropout (Dropout)               (None, 62, 80, 20)   0           max_pooling2d[0][0]              \n",
            "__________________________________________________________________________________________________\n",
            "conv2d_1 (Conv2D)               (None, 62, 80, 40)   7240        dropout[0][0]                    \n",
            "__________________________________________________________________________________________________\n",
            "batch_normalization_1 (BatchNor (None, 62, 80, 40)   160         conv2d_1[0][0]                   \n",
            "__________________________________________________________________________________________________\n",
            "conv2d_2 (Conv2D)               (None, 62, 80, 40)   14440       batch_normalization_1[0][0]      \n",
            "__________________________________________________________________________________________________\n",
            "batch_normalization_2 (BatchNor (None, 62, 80, 40)   160         conv2d_2[0][0]                   \n",
            "__________________________________________________________________________________________________\n",
            "max_pooling2d_1 (MaxPooling2D)  (None, 31, 40, 40)   0           batch_normalization_2[0][0]      \n",
            "__________________________________________________________________________________________________\n",
            "dropout_1 (Dropout)             (None, 31, 40, 40)   0           max_pooling2d_1[0][0]            \n",
            "__________________________________________________________________________________________________\n",
            "conv2d_3 (Conv2D)               (None, 31, 40, 80)   28880       dropout_1[0][0]                  \n",
            "__________________________________________________________________________________________________\n",
            "batch_normalization_3 (BatchNor (None, 31, 40, 80)   320         conv2d_3[0][0]                   \n",
            "__________________________________________________________________________________________________\n",
            "conv2d_4 (Conv2D)               (None, 31, 40, 80)   57680       batch_normalization_3[0][0]      \n",
            "__________________________________________________________________________________________________\n",
            "batch_normalization_4 (BatchNor (None, 31, 40, 80)   320         conv2d_4[0][0]                   \n",
            "__________________________________________________________________________________________________\n",
            "max_pooling2d_2 (MaxPooling2D)  (None, 15, 20, 80)   0           batch_normalization_4[0][0]      \n",
            "__________________________________________________________________________________________________\n",
            "dropout_2 (Dropout)             (None, 15, 20, 80)   0           max_pooling2d_2[0][0]            \n",
            "__________________________________________________________________________________________________\n",
            "conv2d_5 (Conv2D)               (None, 15, 20, 160)  115360      dropout_2[0][0]                  \n",
            "__________________________________________________________________________________________________\n",
            "batch_normalization_5 (BatchNor (None, 15, 20, 160)  640         conv2d_5[0][0]                   \n",
            "__________________________________________________________________________________________________\n",
            "conv2d_6 (Conv2D)               (None, 15, 20, 1)    801         batch_normalization_5[0][0]      \n",
            "__________________________________________________________________________________________________\n",
            "squeeze_last_dim (Lambda)       (None, 15, 20)       0           conv2d_6[0][0]                   \n",
            "__________________________________________________________________________________________________\n",
            "bidirectional (Bidirectional)   (None, 15, 128)      43520       squeeze_last_dim[0][0]           \n",
            "__________________________________________________________________________________________________\n",
            "dropout_3 (Dropout)             (None, 15, 128)      0           bidirectional[0][0]              \n",
            "__________________________________________________________________________________________________\n",
            "bidirectional_1 (Bidirectional) (None, 15, 128)      98816       dropout_3[0][0]                  \n",
            "__________________________________________________________________________________________________\n",
            "dropout_4 (Dropout)             (None, 15, 128)      0           bidirectional_1[0][0]            \n",
            "__________________________________________________________________________________________________\n",
            "lambda (Lambda)                 (None, 128)          0           dropout_4[0][0]                  \n",
            "__________________________________________________________________________________________________\n",
            "dense (Dense)                   (None, 128)          16512       lambda[0][0]                     \n",
            "__________________________________________________________________________________________________\n",
            "dot (Dot)                       (None, 15)           0           dense[0][0]                      \n",
            "                                                                 dropout_4[0][0]                  \n",
            "__________________________________________________________________________________________________\n",
            "attSoftmax (Softmax)            (None, 15)           0           dot[0][0]                        \n",
            "__________________________________________________________________________________________________\n",
            "dot_1 (Dot)                     (None, 128)          0           attSoftmax[0][0]                 \n",
            "                                                                 dropout_4[0][0]                  \n",
            "__________________________________________________________________________________________________\n",
            "dense_1 (Dense)                 (None, 64)           8256        dot_1[0][0]                      \n",
            "__________________________________________________________________________________________________\n",
            "dropout_5 (Dropout)             (None, 64)           0           dense_1[0][0]                    \n",
            "__________________________________________________________________________________________________\n",
            "dense_2 (Dense)                 (None, 32)           2080        dropout_5[0][0]                  \n",
            "__________________________________________________________________________________________________\n",
            "dropout_6 (Dropout)             (None, 32)           0           dense_2[0][0]                    \n",
            "__________________________________________________________________________________________________\n",
            "output (Dense)                  (None, 12)           396         dropout_6[0][0]                  \n",
            "==================================================================================================\n",
            "Total params: 1,487,445\n",
            "Trainable params: 394,941\n",
            "Non-trainable params: 1,092,504\n",
            "__________________________________________________________________________________________________\n"
          ],
          "name": "stdout"
        }
      ]
    },
    {
      "cell_type": "code",
      "metadata": {
        "id": "uH8Aa4-gyarI"
      },
      "source": [
        "# interesting optimizer, because it decreases steadily learning rate\n",
        "import math\n",
        "from tensorflow.keras.callbacks import EarlyStopping, ModelCheckpoint, LearningRateScheduler\n",
        "def step_decay(epoch):\n",
        "    initial_lrate = 0.001\n",
        "    drop = 0.4\n",
        "    epochs_drop = 15.0\n",
        "    lrate = initial_lrate * math.pow(drop,  \n",
        "            math.floor((1+epoch)/epochs_drop))\n",
        "    \n",
        "    if (lrate < 4e-5):\n",
        "        lrate = 4e-5\n",
        "      \n",
        "    print('Changing learning rate to {}'.format(lrate))\n",
        "    return lrate\n",
        "lrate = LearningRateScheduler(step_decay)"
      ],
      "execution_count": null,
      "outputs": []
    },
    {
      "cell_type": "code",
      "metadata": {
        "colab": {
          "base_uri": "https://localhost:8080/"
        },
        "id": "P4XKh-NdyarK",
        "scrolled": true,
        "outputId": "a9ede980-f657-4c13-bdf3-b6339c00d605"
      },
      "source": [
        "# fit model (sometimes early stopper used different patience e.g. 3 or 10)\n",
        "earlystopper = EarlyStopping(monitor='val_sparse_categorical_accuracy', patience=5,\n",
        "                             verbose=1, restore_best_weights=True)\n",
        "checkpointer = ModelCheckpoint(model_directory, monitor='val_sparse_categorical_accuracy', verbose=1, save_best_only=True)\n",
        "\n",
        "results = model.fit(trainGen, validation_data=valGen, epochs=60, use_multiprocessing=False, workers=4, verbose=2,\n",
        "                    callbacks=[earlystopper, checkpointer, lrate])\n",
        "\n",
        "model.save(model_directory)"
      ],
      "execution_count": null,
      "outputs": [
        {
          "output_type": "stream",
          "text": [
            "Epoch 1/60\n",
            "Changing learning rate to 0.001\n",
            "560/560 - 120s - loss: 1.1455 - sparse_categorical_accuracy: 0.6067 - val_loss: 0.5814 - val_sparse_categorical_accuracy: 0.8086\n",
            "\n",
            "Epoch 00001: val_sparse_categorical_accuracy improved from -inf to 0.80856, saving model to drive/MyDrive/speech_data/model-12cmd-ConvAttRNN3-filtered.h5\n",
            "Epoch 2/60\n",
            "Changing learning rate to 0.001\n",
            "560/560 - 61s - loss: 0.5291 - sparse_categorical_accuracy: 0.8343 - val_loss: 0.3523 - val_sparse_categorical_accuracy: 0.8829\n",
            "\n",
            "Epoch 00002: val_sparse_categorical_accuracy improved from 0.80856 to 0.88287, saving model to drive/MyDrive/speech_data/model-12cmd-ConvAttRNN3-filtered.h5\n",
            "Epoch 3/60\n",
            "Changing learning rate to 0.001\n",
            "560/560 - 61s - loss: 0.4097 - sparse_categorical_accuracy: 0.8730 - val_loss: 0.3650 - val_sparse_categorical_accuracy: 0.8870\n",
            "\n",
            "Epoch 00003: val_sparse_categorical_accuracy improved from 0.88287 to 0.88704, saving model to drive/MyDrive/speech_data/model-12cmd-ConvAttRNN3-filtered.h5\n",
            "Epoch 4/60\n",
            "Changing learning rate to 0.001\n",
            "560/560 - 61s - loss: 0.3443 - sparse_categorical_accuracy: 0.8929 - val_loss: 0.2878 - val_sparse_categorical_accuracy: 0.9197\n",
            "\n",
            "Epoch 00004: val_sparse_categorical_accuracy improved from 0.88704 to 0.91968, saving model to drive/MyDrive/speech_data/model-12cmd-ConvAttRNN3-filtered.h5\n",
            "Epoch 5/60\n",
            "Changing learning rate to 0.001\n",
            "560/560 - 61s - loss: 0.2944 - sparse_categorical_accuracy: 0.9100 - val_loss: 0.2768 - val_sparse_categorical_accuracy: 0.9120\n",
            "\n",
            "Epoch 00005: val_sparse_categorical_accuracy did not improve from 0.91968\n",
            "Epoch 6/60\n",
            "Changing learning rate to 0.001\n",
            "560/560 - 61s - loss: 0.2704 - sparse_categorical_accuracy: 0.9160 - val_loss: 0.2798 - val_sparse_categorical_accuracy: 0.9199\n",
            "\n",
            "Epoch 00006: val_sparse_categorical_accuracy improved from 0.91968 to 0.91991, saving model to drive/MyDrive/speech_data/model-12cmd-ConvAttRNN3-filtered.h5\n",
            "Epoch 7/60\n",
            "Changing learning rate to 0.001\n",
            "560/560 - 61s - loss: 0.2533 - sparse_categorical_accuracy: 0.9203 - val_loss: 0.2171 - val_sparse_categorical_accuracy: 0.9324\n",
            "\n",
            "Epoch 00007: val_sparse_categorical_accuracy improved from 0.91991 to 0.93241, saving model to drive/MyDrive/speech_data/model-12cmd-ConvAttRNN3-filtered.h5\n",
            "Epoch 8/60\n",
            "Changing learning rate to 0.001\n",
            "560/560 - 61s - loss: 0.2404 - sparse_categorical_accuracy: 0.9246 - val_loss: 0.2400 - val_sparse_categorical_accuracy: 0.9238\n",
            "\n",
            "Epoch 00008: val_sparse_categorical_accuracy did not improve from 0.93241\n",
            "Epoch 9/60\n",
            "Changing learning rate to 0.001\n",
            "560/560 - 61s - loss: 0.2217 - sparse_categorical_accuracy: 0.9318 - val_loss: 0.1906 - val_sparse_categorical_accuracy: 0.9391\n",
            "\n",
            "Epoch 00009: val_sparse_categorical_accuracy improved from 0.93241 to 0.93912, saving model to drive/MyDrive/speech_data/model-12cmd-ConvAttRNN3-filtered.h5\n",
            "Epoch 10/60\n",
            "Changing learning rate to 0.001\n",
            "560/560 - 61s - loss: 0.2122 - sparse_categorical_accuracy: 0.9328 - val_loss: 0.2325 - val_sparse_categorical_accuracy: 0.9336\n",
            "\n",
            "Epoch 00010: val_sparse_categorical_accuracy did not improve from 0.93912\n",
            "Epoch 11/60\n",
            "Changing learning rate to 0.001\n",
            "560/560 - 61s - loss: 0.2043 - sparse_categorical_accuracy: 0.9360 - val_loss: 0.2238 - val_sparse_categorical_accuracy: 0.9315\n",
            "\n",
            "Epoch 00011: val_sparse_categorical_accuracy did not improve from 0.93912\n",
            "Epoch 12/60\n",
            "Changing learning rate to 0.001\n",
            "560/560 - 61s - loss: 0.1912 - sparse_categorical_accuracy: 0.9408 - val_loss: 0.1968 - val_sparse_categorical_accuracy: 0.9398\n",
            "\n",
            "Epoch 00012: val_sparse_categorical_accuracy improved from 0.93912 to 0.93981, saving model to drive/MyDrive/speech_data/model-12cmd-ConvAttRNN3-filtered.h5\n",
            "Epoch 13/60\n",
            "Changing learning rate to 0.001\n",
            "560/560 - 61s - loss: 0.1959 - sparse_categorical_accuracy: 0.9384 - val_loss: 0.1864 - val_sparse_categorical_accuracy: 0.9426\n",
            "\n",
            "Epoch 00013: val_sparse_categorical_accuracy improved from 0.93981 to 0.94259, saving model to drive/MyDrive/speech_data/model-12cmd-ConvAttRNN3-filtered.h5\n",
            "Epoch 14/60\n",
            "Changing learning rate to 0.001\n",
            "560/560 - 61s - loss: 0.1815 - sparse_categorical_accuracy: 0.9436 - val_loss: 0.1950 - val_sparse_categorical_accuracy: 0.9356\n",
            "\n",
            "Epoch 00014: val_sparse_categorical_accuracy did not improve from 0.94259\n",
            "Epoch 15/60\n",
            "Changing learning rate to 0.0004\n",
            "560/560 - 61s - loss: 0.1420 - sparse_categorical_accuracy: 0.9552 - val_loss: 0.1499 - val_sparse_categorical_accuracy: 0.9532\n",
            "\n",
            "Epoch 00015: val_sparse_categorical_accuracy improved from 0.94259 to 0.95324, saving model to drive/MyDrive/speech_data/model-12cmd-ConvAttRNN3-filtered.h5\n",
            "Epoch 16/60\n",
            "Changing learning rate to 0.0004\n",
            "560/560 - 61s - loss: 0.1318 - sparse_categorical_accuracy: 0.9587 - val_loss: 0.1442 - val_sparse_categorical_accuracy: 0.9544\n",
            "\n",
            "Epoch 00016: val_sparse_categorical_accuracy improved from 0.95324 to 0.95440, saving model to drive/MyDrive/speech_data/model-12cmd-ConvAttRNN3-filtered.h5\n",
            "Epoch 17/60\n",
            "Changing learning rate to 0.0004\n",
            "560/560 - 61s - loss: 0.1246 - sparse_categorical_accuracy: 0.9605 - val_loss: 0.1584 - val_sparse_categorical_accuracy: 0.9532\n",
            "\n",
            "Epoch 00017: val_sparse_categorical_accuracy did not improve from 0.95440\n",
            "Epoch 18/60\n",
            "Changing learning rate to 0.0004\n",
            "560/560 - 61s - loss: 0.1248 - sparse_categorical_accuracy: 0.9610 - val_loss: 0.1629 - val_sparse_categorical_accuracy: 0.9512\n",
            "\n",
            "Epoch 00018: val_sparse_categorical_accuracy did not improve from 0.95440\n",
            "Epoch 19/60\n",
            "Changing learning rate to 0.0004\n",
            "560/560 - 61s - loss: 0.1179 - sparse_categorical_accuracy: 0.9617 - val_loss: 0.1456 - val_sparse_categorical_accuracy: 0.9558\n",
            "\n",
            "Epoch 00019: val_sparse_categorical_accuracy improved from 0.95440 to 0.95579, saving model to drive/MyDrive/speech_data/model-12cmd-ConvAttRNN3-filtered.h5\n",
            "Epoch 20/60\n",
            "Changing learning rate to 0.0004\n",
            "560/560 - 61s - loss: 0.1178 - sparse_categorical_accuracy: 0.9618 - val_loss: 0.1527 - val_sparse_categorical_accuracy: 0.9525\n",
            "\n",
            "Epoch 00020: val_sparse_categorical_accuracy did not improve from 0.95579\n",
            "Epoch 21/60\n",
            "Changing learning rate to 0.0004\n",
            "560/560 - 61s - loss: 0.1141 - sparse_categorical_accuracy: 0.9631 - val_loss: 0.1456 - val_sparse_categorical_accuracy: 0.9560\n",
            "\n",
            "Epoch 00021: val_sparse_categorical_accuracy improved from 0.95579 to 0.95602, saving model to drive/MyDrive/speech_data/model-12cmd-ConvAttRNN3-filtered.h5\n",
            "Epoch 22/60\n",
            "Changing learning rate to 0.0004\n",
            "560/560 - 61s - loss: 0.1089 - sparse_categorical_accuracy: 0.9651 - val_loss: 0.1695 - val_sparse_categorical_accuracy: 0.9572\n",
            "\n",
            "Epoch 00022: val_sparse_categorical_accuracy improved from 0.95602 to 0.95718, saving model to drive/MyDrive/speech_data/model-12cmd-ConvAttRNN3-filtered.h5\n",
            "Epoch 23/60\n",
            "Changing learning rate to 0.0004\n",
            "560/560 - 61s - loss: 0.1090 - sparse_categorical_accuracy: 0.9645 - val_loss: 0.1685 - val_sparse_categorical_accuracy: 0.9514\n",
            "\n",
            "Epoch 00023: val_sparse_categorical_accuracy did not improve from 0.95718\n",
            "Epoch 24/60\n",
            "Changing learning rate to 0.0004\n",
            "560/560 - 61s - loss: 0.1069 - sparse_categorical_accuracy: 0.9649 - val_loss: 0.1585 - val_sparse_categorical_accuracy: 0.9553\n",
            "\n",
            "Epoch 00024: val_sparse_categorical_accuracy did not improve from 0.95718\n",
            "Epoch 25/60\n",
            "Changing learning rate to 0.0004\n",
            "560/560 - 61s - loss: 0.1050 - sparse_categorical_accuracy: 0.9660 - val_loss: 0.1525 - val_sparse_categorical_accuracy: 0.9574\n",
            "\n",
            "Epoch 00025: val_sparse_categorical_accuracy improved from 0.95718 to 0.95741, saving model to drive/MyDrive/speech_data/model-12cmd-ConvAttRNN3-filtered.h5\n",
            "Epoch 26/60\n",
            "Changing learning rate to 0.0004\n",
            "560/560 - 61s - loss: 0.1034 - sparse_categorical_accuracy: 0.9673 - val_loss: 0.1309 - val_sparse_categorical_accuracy: 0.9602\n",
            "\n",
            "Epoch 00026: val_sparse_categorical_accuracy improved from 0.95741 to 0.96019, saving model to drive/MyDrive/speech_data/model-12cmd-ConvAttRNN3-filtered.h5\n",
            "Epoch 27/60\n",
            "Changing learning rate to 0.0004\n",
            "560/560 - 61s - loss: 0.0995 - sparse_categorical_accuracy: 0.9680 - val_loss: 0.1506 - val_sparse_categorical_accuracy: 0.9560\n",
            "\n",
            "Epoch 00027: val_sparse_categorical_accuracy did not improve from 0.96019\n",
            "Epoch 28/60\n",
            "Changing learning rate to 0.0004\n",
            "560/560 - 61s - loss: 0.1011 - sparse_categorical_accuracy: 0.9674 - val_loss: 0.1646 - val_sparse_categorical_accuracy: 0.9579\n",
            "\n",
            "Epoch 00028: val_sparse_categorical_accuracy did not improve from 0.96019\n",
            "Epoch 29/60\n",
            "Changing learning rate to 0.0004\n",
            "560/560 - 61s - loss: 0.0995 - sparse_categorical_accuracy: 0.9679 - val_loss: 0.1502 - val_sparse_categorical_accuracy: 0.9572\n",
            "\n",
            "Epoch 00029: val_sparse_categorical_accuracy did not improve from 0.96019\n",
            "Epoch 30/60\n",
            "Changing learning rate to 0.00016000000000000004\n",
            "560/560 - 61s - loss: 0.0852 - sparse_categorical_accuracy: 0.9717 - val_loss: 0.1431 - val_sparse_categorical_accuracy: 0.9602\n",
            "\n",
            "Epoch 00030: val_sparse_categorical_accuracy did not improve from 0.96019\n",
            "Epoch 31/60\n",
            "Changing learning rate to 0.00016000000000000004\n",
            "560/560 - 61s - loss: 0.0773 - sparse_categorical_accuracy: 0.9756 - val_loss: 0.1446 - val_sparse_categorical_accuracy: 0.9616\n",
            "\n",
            "Epoch 00031: val_sparse_categorical_accuracy improved from 0.96019 to 0.96157, saving model to drive/MyDrive/speech_data/model-12cmd-ConvAttRNN3-filtered.h5\n",
            "Epoch 32/60\n",
            "Changing learning rate to 0.00016000000000000004\n",
            "560/560 - 61s - loss: 0.0767 - sparse_categorical_accuracy: 0.9755 - val_loss: 0.1530 - val_sparse_categorical_accuracy: 0.9623\n",
            "\n",
            "Epoch 00032: val_sparse_categorical_accuracy improved from 0.96157 to 0.96227, saving model to drive/MyDrive/speech_data/model-12cmd-ConvAttRNN3-filtered.h5\n",
            "Epoch 33/60\n",
            "Changing learning rate to 0.00016000000000000004\n",
            "560/560 - 61s - loss: 0.0758 - sparse_categorical_accuracy: 0.9759 - val_loss: 0.1428 - val_sparse_categorical_accuracy: 0.9609\n",
            "\n",
            "Epoch 00033: val_sparse_categorical_accuracy did not improve from 0.96227\n",
            "Epoch 34/60\n",
            "Changing learning rate to 0.00016000000000000004\n",
            "560/560 - 61s - loss: 0.0790 - sparse_categorical_accuracy: 0.9750 - val_loss: 0.1573 - val_sparse_categorical_accuracy: 0.9593\n",
            "\n",
            "Epoch 00034: val_sparse_categorical_accuracy did not improve from 0.96227\n",
            "Epoch 35/60\n",
            "Changing learning rate to 0.00016000000000000004\n",
            "560/560 - 61s - loss: 0.0752 - sparse_categorical_accuracy: 0.9761 - val_loss: 0.1425 - val_sparse_categorical_accuracy: 0.9646\n",
            "\n",
            "Epoch 00035: val_sparse_categorical_accuracy improved from 0.96227 to 0.96458, saving model to drive/MyDrive/speech_data/model-12cmd-ConvAttRNN3-filtered.h5\n",
            "Epoch 36/60\n",
            "Changing learning rate to 0.00016000000000000004\n",
            "560/560 - 61s - loss: 0.0746 - sparse_categorical_accuracy: 0.9758 - val_loss: 0.1392 - val_sparse_categorical_accuracy: 0.9611\n",
            "\n",
            "Epoch 00036: val_sparse_categorical_accuracy did not improve from 0.96458\n",
            "Epoch 37/60\n",
            "Changing learning rate to 0.00016000000000000004\n",
            "560/560 - 61s - loss: 0.0745 - sparse_categorical_accuracy: 0.9762 - val_loss: 0.1611 - val_sparse_categorical_accuracy: 0.9597\n",
            "\n",
            "Epoch 00037: val_sparse_categorical_accuracy did not improve from 0.96458\n",
            "Epoch 38/60\n",
            "Changing learning rate to 0.00016000000000000004\n",
            "560/560 - 61s - loss: 0.0732 - sparse_categorical_accuracy: 0.9770 - val_loss: 0.1498 - val_sparse_categorical_accuracy: 0.9595\n",
            "\n",
            "Epoch 00038: val_sparse_categorical_accuracy did not improve from 0.96458\n",
            "Epoch 39/60\n",
            "Changing learning rate to 0.00016000000000000004\n",
            "560/560 - 61s - loss: 0.0729 - sparse_categorical_accuracy: 0.9769 - val_loss: 0.1470 - val_sparse_categorical_accuracy: 0.9616\n",
            "\n",
            "Epoch 00039: val_sparse_categorical_accuracy did not improve from 0.96458\n",
            "Epoch 40/60\n",
            "Changing learning rate to 0.00016000000000000004\n",
            "560/560 - 61s - loss: 0.0677 - sparse_categorical_accuracy: 0.9779 - val_loss: 0.1535 - val_sparse_categorical_accuracy: 0.9602\n",
            "Restoring model weights from the end of the best epoch.\n",
            "\n",
            "Epoch 00040: val_sparse_categorical_accuracy did not improve from 0.96458\n",
            "Epoch 00040: early stopping\n"
          ],
          "name": "stdout"
        }
      ]
    },
    {
      "cell_type": "markdown",
      "metadata": {
        "id": "WQZ3rH_638h-"
      },
      "source": [
        "## Plot"
      ]
    },
    {
      "cell_type": "code",
      "metadata": {
        "colab": {
          "base_uri": "https://localhost:8080/",
          "height": 573
        },
        "id": "KGaItJhiyarN",
        "outputId": "fa0a7d5c-5a8c-481a-ff7f-0e3eacaece52"
      },
      "source": [
        "# summarize history for categorical accuracy\n",
        "plt.plot(results.history['sparse_categorical_accuracy'])\n",
        "plt.plot(results.history['val_sparse_categorical_accuracy'])\n",
        "plt.title('Categorical accuracy')\n",
        "plt.ylabel('accuracy')\n",
        "plt.xlabel('epoch')\n",
        "plt.legend(['train', 'test'], loc='upper left')\n",
        "plt.show()\n",
        "# summarize history for loss\n",
        "plt.plot(results.history['loss'])\n",
        "plt.plot(results.history['val_loss'])\n",
        "plt.title('model loss')\n",
        "plt.ylabel('loss')\n",
        "plt.xlabel('epoch')\n",
        "plt.legend(['train', 'test'], loc='upper left')\n",
        "plt.show()"
      ],
      "execution_count": null,
      "outputs": [
        {
          "output_type": "display_data",
          "data": {
            "image/png": "[encoded data removed]",
            "text/plain": [
              "<Figure size 432x288 with 1 Axes>"
            ]
          },
          "metadata": {
            "tags": [],
            "needs_background": "light"
          }
        },
        {
          "output_type": "display_data",
          "data": {
            "image/png": "[encoded data removed]",
            "text/plain": [
              "<Figure size 432x288 with 1 Axes>"
            ]
          },
          "metadata": {
            "tags": [],
            "needs_background": "light"
          }
        }
      ]
    },
    {
      "cell_type": "markdown",
      "metadata": {
        "id": "oJwDvZ0JgEZ0"
      },
      "source": [
        "## Accuracy on train, val and test\n"
      ]
    },
    {
      "cell_type": "code",
      "metadata": {
        "id": "RNUCmbUjkhIW",
        "scrolled": true,
        "colab": {
          "base_uri": "https://localhost:8080/",
          "height": 35
        },
        "outputId": "68406b5b-723b-4c17-fb8c-0d860f898edd"
      },
      "source": [
        "model_directory"
      ],
      "execution_count": 9,
      "outputs": [
        {
          "output_type": "execute_result",
          "data": {
            "application/vnd.google.colaboratory.intrinsic+json": {
              "type": "string"
            },
            "text/plain": [
              "'drive/MyDrive/speech_data/model-12cmd-ConvAttRNN3-filtered.h5'"
            ]
          },
          "metadata": {
            "tags": []
          },
          "execution_count": 9
        }
      ]
    },
    {
      "cell_type": "code",
      "metadata": {
        "id": "0Fgie8ZwyarQ"
      },
      "source": [
        "# load best model\n",
        "model.load_weights(model_directory)"
      ],
      "execution_count": 10,
      "outputs": []
    },
    {
      "cell_type": "code",
      "metadata": {
        "id": "PlT2988zkhIg",
        "scrolled": true
      },
      "source": [
        "#read all test data\n",
        "x_test, y_test = testGen.__getitem__(0)"
      ],
      "execution_count": null,
      "outputs": []
    },
    {
      "cell_type": "code",
      "metadata": {
        "colab": {
          "base_uri": "https://localhost:8080/"
        },
        "id": "O_R8ga27yarS",
        "outputId": "10febf68-62f4-426e-ed3e-9cb68faa5160"
      },
      "source": [
        "valEval = model.evaluate(valGen, use_multiprocessing=False, workers=4,verbose=0)\n",
        "trainEval = model.evaluate(trainGen, use_multiprocessing=False, workers=4,verbose=0)\n",
        "testEval = model.evaluate(x_test, y_test, verbose=0)\n",
        "print('Evaluation scores: \\nMetrics: {} \\nTrain: {} \\nValidation: {} \\nTest: {}'.format(model.metrics_names, trainEval, valEval, testEval) )"
      ],
      "execution_count": null,
      "outputs": [
        {
          "output_type": "stream",
          "text": [
            "Evaluation scores: \n",
            "Metrics: ['loss', 'sparse_categorical_accuracy'] \n",
            "Train: [0.046598292887210846, 0.9857980012893677] \n",
            "Validation: [0.14188766479492188, 0.9648148417472839] \n",
            "Test: [1.9003888368606567, 0.41730996966362]\n"
          ],
          "name": "stdout"
        }
      ]
    },
    {
      "cell_type": "markdown",
      "metadata": {
        "id": "EN_Zg-794A0p"
      },
      "source": [
        "## Kaggle\n",
        "code to predict and submit result"
      ]
    },
    {
      "cell_type": "code",
      "metadata": {
        "colab": {
          "base_uri": "https://localhost:8080/"
        },
        "id": "aaM300dkyarV",
        "outputId": "a7f16945-c798-45e2-80e4-4d05cd553b86"
      },
      "source": [
        "classes=['unknown', 'silence', 'yes',  'no', 'up', 'down', 'left', 'right', 'on', 'off', 'stop', 'go']\n",
        "# classes=['nothing', 'silence'] # use it if silence task\n",
        "all_preds = []\n",
        "for i in range(6):\n",
        "    x_testR = None\n",
        "    x_testR = testRGen.__getitem__(i)[0]\n",
        "    y_pred = model.predict(x_testR, verbose=1)\n",
        "    y_pred = np.argmax(y_pred, axis=1)\n",
        "    y_pred = [classes[i] for i in y_pred]\n",
        "    all_preds += y_pred\n"
      ],
      "execution_count": 11,
      "outputs": [
        {
          "output_type": "stream",
          "text": [
            "826/826 [==============================] - 51s 20ms/step\n",
            "826/826 [==============================] - 17s 20ms/step\n",
            "826/826 [==============================] - 17s 20ms/step\n",
            "826/826 [==============================] - 17s 20ms/step\n",
            "826/826 [==============================] - 17s 20ms/step\n",
            "826/826 [==============================] - 17s 20ms/step\n"
          ],
          "name": "stdout"
        }
      ]
    },
    {
      "cell_type": "code",
      "metadata": {
        "id": "GYGWlLAC5VBw"
      },
      "source": [
        "files = gscInfo['testREAL']['files']\n",
        "files = [file.split('/')[-1][:-4] for file in files]\n",
        "submissions=pd.DataFrame({\"fname\": files,\n",
        "                          \"label\": all_preds[:len(files)]}) #a_preds\n",
        "submissions.to_csv(\"submission.csv\", index=False)"
      ],
      "execution_count": 12,
      "outputs": []
    },
    {
      "cell_type": "code",
      "metadata": {
        "colab": {
          "base_uri": "https://localhost:8080/",
          "height": 457
        },
        "id": "FfU66g_r3E-g",
        "outputId": "621e3e26-928e-4738-a3ac-55facb0b72c1"
      },
      "source": [
        "# proportions of classes - really important\n",
        "submissions.groupby('label').count()"
      ],
      "execution_count": 13,
      "outputs": [
        {
          "output_type": "execute_result",
          "data": {
            "text/html": [
              "<div>\n",
              "<style scoped>\n",
              "    .dataframe tbody tr th:only-of-type {\n",
              "        vertical-align: middle;\n",
              "    }\n",
              "\n",
              "    .dataframe tbody tr th {\n",
              "        vertical-align: top;\n",
              "    }\n",
              "\n",
              "    .dataframe thead th {\n",
              "        text-align: right;\n",
              "    }\n",
              "</style>\n",
              "<table border=\"1\" class=\"dataframe\">\n",
              "  <thead>\n",
              "    <tr style=\"text-align: right;\">\n",
              "      <th></th>\n",
              "      <th>fname</th>\n",
              "    </tr>\n",
              "    <tr>\n",
              "      <th>label</th>\n",
              "      <th></th>\n",
              "    </tr>\n",
              "  </thead>\n",
              "  <tbody>\n",
              "    <tr>\n",
              "      <th>down</th>\n",
              "      <td>6234</td>\n",
              "    </tr>\n",
              "    <tr>\n",
              "      <th>go</th>\n",
              "      <td>6847</td>\n",
              "    </tr>\n",
              "    <tr>\n",
              "      <th>left</th>\n",
              "      <td>6099</td>\n",
              "    </tr>\n",
              "    <tr>\n",
              "      <th>no</th>\n",
              "      <td>6273</td>\n",
              "    </tr>\n",
              "    <tr>\n",
              "      <th>off</th>\n",
              "      <td>6765</td>\n",
              "    </tr>\n",
              "    <tr>\n",
              "      <th>on</th>\n",
              "      <td>6168</td>\n",
              "    </tr>\n",
              "    <tr>\n",
              "      <th>right</th>\n",
              "      <td>6781</td>\n",
              "    </tr>\n",
              "    <tr>\n",
              "      <th>silence</th>\n",
              "      <td>13403</td>\n",
              "    </tr>\n",
              "    <tr>\n",
              "      <th>stop</th>\n",
              "      <td>6026</td>\n",
              "    </tr>\n",
              "    <tr>\n",
              "      <th>unknown</th>\n",
              "      <td>82271</td>\n",
              "    </tr>\n",
              "    <tr>\n",
              "      <th>up</th>\n",
              "      <td>5629</td>\n",
              "    </tr>\n",
              "    <tr>\n",
              "      <th>yes</th>\n",
              "      <td>6042</td>\n",
              "    </tr>\n",
              "  </tbody>\n",
              "</table>\n",
              "</div>"
            ],
            "text/plain": [
              "         fname\n",
              "label         \n",
              "down      6234\n",
              "go        6847\n",
              "left      6099\n",
              "no        6273\n",
              "off       6765\n",
              "on        6168\n",
              "right     6781\n",
              "silence  13403\n",
              "stop      6026\n",
              "unknown  82271\n",
              "up        5629\n",
              "yes       6042"
            ]
          },
          "metadata": {
            "tags": []
          },
          "execution_count": 13
        }
      ]
    },
    {
      "cell_type": "code",
      "metadata": {
        "colab": {
          "base_uri": "https://localhost:8080/"
        },
        "id": "aUYL4xg147Jq",
        "outputId": "a686d0ab-48bf-44dd-ea90-1d19cb2c17da"
      },
      "source": [
        "!pip install kaggle\n",
        "try:\n",
        "    os.mkdir('/root/.kaggle')\n",
        "except:\n",
        "    pass\n",
        "with open('/root/.kaggle/kaggle.json', 'w') as f:\n",
        "    # have to write your own credentials (can be found in account menu)\n",
        "    f.write('{\"username\":\"your-username\",\"key\":\"your-key\"}')\n",
        "!kaggle competitions submit -c tensorflow-speech-recognition-challenge -f submission.csv -m \"12cmd-ConvAttRNN3-filtered\""
      ],
      "execution_count": 14,
      "outputs": [
        {
          "output_type": "stream",
          "text": [
            "Requirement already satisfied: kaggle in /usr/local/lib/python3.7/dist-packages (1.5.12)\n",
            "Requirement already satisfied: urllib3 in /usr/local/lib/python3.7/dist-packages (from kaggle) (1.24.3)\n",
            "Requirement already satisfied: six>=1.10 in /usr/local/lib/python3.7/dist-packages (from kaggle) (1.15.0)\n",
            "Requirement already satisfied: requests in /usr/local/lib/python3.7/dist-packages (from kaggle) (2.23.0)\n",
            "Requirement already satisfied: python-slugify in /usr/local/lib/python3.7/dist-packages (from kaggle) (5.0.2)\n",
            "Requirement already satisfied: certifi in /usr/local/lib/python3.7/dist-packages (from kaggle) (2020.12.5)\n",
            "Requirement already satisfied: tqdm in /usr/local/lib/python3.7/dist-packages (from kaggle) (4.41.1)\n",
            "Requirement already satisfied: python-dateutil in /usr/local/lib/python3.7/dist-packages (from kaggle) (2.8.1)\n",
            "Requirement already satisfied: idna<3,>=2.5 in /usr/local/lib/python3.7/dist-packages (from requests->kaggle) (2.10)\n",
            "Requirement already satisfied: chardet<4,>=3.0.2 in /usr/local/lib/python3.7/dist-packages (from requests->kaggle) (3.0.4)\n",
            "Requirement already satisfied: text-unidecode>=1.3 in /usr/local/lib/python3.7/dist-packages (from python-slugify->kaggle) (1.3)\n",
            "Warning: Your Kaggle API key is readable by other users on this system! To fix this, you can run 'chmod 600 /root/.kaggle/kaggle.json'\n",
            "Warning: Looks like you're using an outdated API Version, please consider updating (server 1.5.12 / client 1.5.4)\n",
            "100% 3.85M/3.85M [00:00<00:00, 7.15MB/s]\n",
            "Successfully submitted to TensorFlow Speech Recognition Challenge"
          ],
          "name": "stdout"
        }
      ]
    },
    {
      "cell_type": "markdown",
      "metadata": {
        "id": "NFtfrcDS_ny2"
      },
      "source": [
        "## Confusion matrix"
      ]
    },
    {
      "cell_type": "code",
      "metadata": {
        "colab": {
          "base_uri": "https://localhost:8080/"
        },
        "id": "Nvdo2FiJkhJz",
        "outputId": "f90dc9f3-91ae-4939-c441-09040c860ff6"
      },
      "source": [
        "# x_test, y_test = testGen.__getitem__(0)\n",
        "y_pred = model.predict(x_test, verbose=1)"
      ],
      "execution_count": null,
      "outputs": [
        {
          "output_type": "stream",
          "text": [
            "345/345 [==============================] - 9s 21ms/step\n"
          ],
          "name": "stdout"
        }
      ]
    },
    {
      "cell_type": "code",
      "metadata": {
        "id": "jAPOwlxUkhJ5"
      },
      "source": [
        "from sklearn.metrics import confusion_matrix\n",
        "import audioUtils\n",
        "cm = confusion_matrix(y_test, np.argmax(y_pred,1))"
      ],
      "execution_count": null,
      "outputs": []
    },
    {
      "cell_type": "code",
      "metadata": {
        "id": "gglXdqS1hLxs"
      },
      "source": [
        "classes=['unknown', 'silence', 'yes',  'no', 'up', 'down', 'left', 'right', 'on', 'off', 'stop', 'go']\n",
        "# classes=['unknown', 'silence'] - use it if silence task"
      ],
      "execution_count": null,
      "outputs": []
    },
    {
      "cell_type": "code",
      "metadata": {
        "colab": {
          "base_uri": "https://localhost:8080/",
          "height": 917
        },
        "id": "wL1IIdLrkhK2",
        "scrolled": false,
        "outputId": "6c0b341a-9e5a-496f-83c9-ff57f13ca058"
      },
      "source": [
        "# after balanced data creation there is a bug - don't care about biggest number (over 6k) in unknow row\n",
        "audioUtils.plot_confusion_matrix(cm, classes, normalize=False)"
      ],
      "execution_count": null,
      "outputs": [
        {
          "output_type": "stream",
          "text": [
            "Confusion matrix, without normalization\n"
          ],
          "name": "stdout"
        },
        {
          "output_type": "display_data",
          "data": {
            "image/png": "[encoded data removed]",
            "text/plain": [
              "<Figure size 1080x1080 with 2 Axes>"
            ]
          },
          "metadata": {
            "tags": [],
            "needs_background": "light"
          }
        }
      ]
    }
  ]
}